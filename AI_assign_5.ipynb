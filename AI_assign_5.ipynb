{
  "nbformat": 4,
  "nbformat_minor": 0,
  "metadata": {
    "colab": {
      "name": "AI assign 5",
      "provenance": [],
      "collapsed_sections": [],
      "include_colab_link": true
    },
    "kernelspec": {
      "display_name": "Python 3",
      "name": "python3"
    }
  },
  "cells": [
    {
      "cell_type": "markdown",
      "metadata": {
        "id": "view-in-github",
        "colab_type": "text"
      },
      "source": [
        "<a href=\"https://colab.research.google.com/github/swetha4444/Artificial-Intelligence/blob/master/AI_assign_5.ipynb\" target=\"_parent\"><img src=\"https://colab.research.google.com/assets/colab-badge.svg\" alt=\"Open In Colab\"/></a>"
      ]
    },
    {
      "cell_type": "markdown",
      "metadata": {
        "id": "EhJi_qDdFDki"
      },
      "source": [
        "#Point and Polygon Classes"
      ]
    },
    {
      "cell_type": "code",
      "metadata": {
        "id": "CFDeOwqN5LRh"
      },
      "source": [
        "# point class with x, y as point \n",
        "import matplotlib.pyplot as plt\n",
        "from shapely.geometry import Point, Polygon\n",
        "\n",
        "class point:\n",
        "    def __init__(self, x: int, y: int):\n",
        "        self.x = x\n",
        "        self.y = y\n",
        "    \n",
        "    def __str__(self):\n",
        "        string = \"(\"+str(self.x)+\",\"+str(self.y)+\")\"\n",
        "        return string\n",
        "\n",
        "class polygon:\n",
        "    def __init__(self, points): #points - array\n",
        "        self.points = points\n",
        "\n",
        "    "
      ],
      "execution_count": 39,
      "outputs": []
    },
    {
      "cell_type": "markdown",
      "metadata": {
        "id": "3OlbrN9O5fbB"
      },
      "source": [
        "# Convex Hull Formation\n"
      ]
    },
    {
      "cell_type": "code",
      "metadata": {
        "id": "lDIuDshu5jmQ"
      },
      "source": [
        "def Left_index(points): \n",
        "\n",
        "\tminn = 0\n",
        "\tfor i in range(1,len(points)): \n",
        "\t\tif points[i].x < points[minn].x: \n",
        "\t\t\tminn = i \n",
        "\t\telif points[i].x == points[minn].x: \n",
        "\t\t\tif points[i].y > points[minn].y: \n",
        "\t\t\t\tminn = i \n",
        "\treturn minn \n",
        "\n",
        "def orientation(p, q, r): \n",
        "\n",
        "\tval = (q.y - p.y) * (r.x - q.x) - (q.x - p.x) * (r.y - q.y) \n",
        "\n",
        "\tif val == 0: \n",
        "\t\treturn 0\n",
        "\telif val > 0: \n",
        "\t\treturn 1\n",
        "\telse: \n",
        "\t\treturn 2\n",
        "\n",
        "def convexHull(points, n): \n",
        "\t\n",
        "\t# There must be at least 3 points \n",
        "\tif n < 3: \n",
        "\t\treturn\n",
        "\n",
        "\t# Find the leftmost point \n",
        "\tl = Left_index(points) \n",
        "\n",
        "\thull = [] \n",
        "\n",
        "\tp = l \n",
        "\tq = 0\n",
        "\twhile(True): \n",
        "\t\t\n",
        "\t\t# Add current point to result \n",
        "\t\thull.append(p) \n",
        "\n",
        "\t\tq = (p + 1) % n \n",
        "\n",
        "\t\tfor i in range(n): \n",
        "\t\t\t\n",
        "\t\t\t# If i is more counterclockwise \n",
        "\t\t\t# than current q, then update q \n",
        "\t\t\tif(orientation(points[p], \n",
        "\t\t\t\tpoints[i], points[q]) == 2): \n",
        "\t\t\t\tq = i \n",
        "\n",
        "\t\tp = q \n",
        "\n",
        "\t\t# While we don't come to first point \n",
        "\t\tif(p == l): \n",
        "\t\t\tbreak\n",
        "\n",
        "\t# Print Result\n",
        "\tx = []\n",
        "\ty = []\n",
        "\tpts =[]\n",
        "\tfor each in hull:\n",
        "\t\tpts.append(points[each])\n",
        "\t\tx.append(points[each].x)\n",
        "\t\ty.append(points[each].y)\n",
        "\treturn x,y,pts\n"
      ],
      "execution_count": 40,
      "outputs": []
    },
    {
      "cell_type": "markdown",
      "metadata": {
        "id": "5Iuij2UPFycv"
      },
      "source": [
        "# Path to Goal"
      ]
    },
    {
      "cell_type": "code",
      "metadata": {
        "id": "wmAqN37JF15Y"
      },
      "source": [
        "class solver:\n",
        "\n",
        "    def __init__(self, max_x, max_y, polygons, start: point, goal: point):\n",
        "        self.actions = [\"u\", \"d\", \"l\", \"r\"]\n",
        "        self.max_x = max_x\n",
        "        self.max_y = max_y\n",
        "        self.polygons = polygons\n",
        "        self.start = start\n",
        "        self.goal = goal\n",
        "        self.path = [[start.x,start.y]] #visited\n",
        "    \n",
        "    def isGoal(self,pt) -> bool:\n",
        "        return ((pt.x == goal.x) and (pt.y == goal.y))\n",
        "\n",
        "    def inside(self,pt):\n",
        "        x = pt.x\n",
        "        y = pt.y\n",
        "        flag = False\n",
        "        for polygon in self.polygons:\n",
        "          points = []\n",
        "          for p in polygon.points:\n",
        "            points.append([p.x,p.y])\n",
        "          flag = (Point(x,y).within(Polygon(points)))\n",
        "          if (flag == True):\n",
        "            return flag\n",
        "        return flag\n",
        "\n",
        "    def h_x(self,pt):\n",
        "      x = pt.x\n",
        "      y = pt.y\n",
        "      g_x = goal.x\n",
        "      g_y = goal.y\n",
        "      return (abs(x - g_x) + abs(y - g_y))\n",
        "    \n",
        "\n",
        "    def move_up(self,spt):\n",
        "        pt = point(spt.x,spt.y+1)\n",
        "        return pt\n",
        "\n",
        "    \n",
        "    def move_down(self,spt):\n",
        "        pt = point(spt.x,spt.y-1)\n",
        "        return pt\n",
        "\n",
        "\n",
        "    def move_left(self,spt):\n",
        "        pt = point(spt.x-1,spt.y)\n",
        "        return pt\n",
        "\n",
        "    \n",
        "    def move_right(self,spt):\n",
        "        pt = point(spt.x+1,spt.y)\n",
        "        return pt\n",
        "\n",
        "    def get_action(self,pt):\n",
        "        heu = []\n",
        "        heu.append(self.h_x(self.move_up(pt)))\n",
        "        heu.append(self.h_x(self.move_down(pt)))\n",
        "        heu.append(self.h_x(self.move_left(pt)))\n",
        "        heu.append(self.h_x(self.move_right(pt)))\n",
        "        i = heu.index(min(heu))\n",
        "        while(len(heu)!=0):\n",
        "          #upt-updated point\n",
        "          i = heu.index(min(heu))\n",
        "          if (i == 0):\n",
        "            upt = self.move_up(pt)\n",
        "            if ((self.inside(upt) == True) or (upt.x > max_x or upt.x <0) or (upt.y > max_y or upt.y <0) or ([upt.x,upt.y] in self.path)):\n",
        "              heu[0] = 100\n",
        "            else:\n",
        "              print(\"UP\",upt)\n",
        "              break\n",
        "          elif (i == 1):\n",
        "            upt = self.move_down(pt)\n",
        "            if ((self.inside(upt) == True) or (upt.x > max_x or upt.x <0) or (upt.y > max_y or upt.y <0) or ([upt.x,upt.y] in self.path)):\n",
        "              heu[1] = 100\n",
        "            else:\n",
        "              print(\"DOWN\",upt)\n",
        "              break\n",
        "          elif (i == 2):\n",
        "            upt = self.move_left(pt)\n",
        "            if ((self.inside(upt) == True) or (upt.x > max_x or upt.x <0) or (upt.y > max_y or upt.y <0) or ([upt.x,upt.y] in self.path)):\n",
        "              heu[2] = 100\n",
        "            else:\n",
        "              print(\"LEFT\",upt)\n",
        "              break\n",
        "          elif (i == 3):\n",
        "            upt = self.move_right(pt)\n",
        "            if ((self.inside(upt) == True) or (upt.x > max_x or upt.x <0) or (upt.y > max_y or upt.y <0) or ([upt.x,upt.y] in self.path)):\n",
        "              heu[3] = 100\n",
        "            else:\n",
        "              print(\"RIGHT\",upt)\n",
        "              break\n",
        "        return upt\n",
        "          \n",
        "\n",
        "    def bfs(self):\n",
        "      curr_pos = start\n",
        "      i=0\n",
        "      while((self.isGoal(curr_pos) != True) and (i!=100) ):\n",
        "        curr_pos = self.get_action(curr_pos)\n",
        "        self.path.append([curr_pos.x,curr_pos.y])\n",
        "        i+=1\n",
        "\n",
        "\n"
      ],
      "execution_count": 57,
      "outputs": []
    },
    {
      "cell_type": "markdown",
      "metadata": {
        "id": "1e7XpGN-FT0J"
      },
      "source": [
        "#Running the Code\n"
      ]
    },
    {
      "cell_type": "code",
      "metadata": {
        "id": "CINGEyZFGcwQ",
        "outputId": "c5c6bf6b-41a1-40d8-b9b6-bdee196b5689",
        "colab": {
          "base_uri": "https://localhost:8080/",
          "height": 656
        }
      },
      "source": [
        "#Creating Polygons\n",
        "polygons = []\n",
        "\n",
        "points = [] \n",
        "points.append(point(0, 3)) \n",
        "points.append(point(2, 5)) \n",
        "points.append(point(3, 3)) \n",
        "x,y,points = convexHull(points, len(points))\n",
        "polygons.append(polygon(points))\n",
        "x.append(x[0])\n",
        "y.append(y[0])\n",
        "plt.scatter(x,y)\n",
        "plt.plot(x,y,'r')\n",
        "\n",
        "points = []\n",
        "points.append(point(8, 8)) \n",
        "points.append(point(5, 8)) \n",
        "points.append(point(8, 5)) \n",
        "points.append(point(5, 5)) \n",
        "x,y,points = convexHull(points, len(points))\n",
        "polygons.append(polygon(points))\n",
        "x.append(x[0])\n",
        "y.append(y[0])\n",
        "plt.scatter(x,y)\n",
        "plt.plot(x,y,'b')\n",
        "\n",
        "\n",
        "#Starting and Goal States\n",
        "start = point(0,8)\n",
        "goal = point(4,4)\n",
        "plt.scatter([start.x,goal.x],[start.y,goal.y])\n",
        "plt.annotate(\"  S\",(start.x,start.y))\n",
        "plt.annotate(\"  G\",(goal.x,goal.y))\n",
        "\n",
        "\n",
        "#Solving using Greedy BFS\n",
        "max_x,max_y = 20,20\n",
        "print(\"\\n\\n\\t\\tGREEDY BFS\\n\\n\");\n",
        "print(\"Start State: \",g.start);\n",
        "print(\"Goal State: \",g.goal);\n",
        "print(\"Actions: \",g.actions);\n",
        "print(\"\\n\\n\\tPATH:\\n\")\n",
        "g = solver(max_x, max_y, polygons, start, goal)\n",
        "g.bfs()\n",
        "\n",
        "x=[]\n",
        "y=[]\n",
        "\n",
        "for pt in g.path:\n",
        "  x.append(pt[0])\n",
        "  y.append(pt[1])\n",
        "\n",
        "plt.scatter(x,y)\n",
        "plt.plot(x,y,'g')\n",
        "\n",
        "#printing plot\n",
        "print()\n",
        "plt.show()\n",
        "\n",
        "\n",
        "\n"
      ],
      "execution_count": 64,
      "outputs": [
        {
          "output_type": "stream",
          "text": [
            "\n",
            "\n",
            "\t\tGREEDY BFS\n",
            "\n",
            "\n",
            "Start State:  (0,8)\n",
            "Goal State:  (4,4)\n",
            "Actions:  ['u', 'd', 'l', 'r']\n",
            "\n",
            "\n",
            "\tPATH:\n",
            "\n",
            "DOWN (0,7)\n",
            "DOWN (0,6)\n",
            "DOWN (0,5)\n",
            "DOWN (0,4)\n",
            "RIGHT (1,4)\n",
            "UP (1,5)\n",
            "RIGHT (2,5)\n",
            "RIGHT (3,5)\n",
            "DOWN (3,4)\n",
            "RIGHT (4,4)\n",
            "\n"
          ],
          "name": "stdout"
        },
        {
          "output_type": "display_data",
          "data": {
            "image/png": "[encoded data removed]",
            "text/plain": [
              "<Figure size 432x288 with 1 Axes>"
            ]
          },
          "metadata": {
            "tags": [],
            "needs_background": "light"
          }
        }
      ]
    }
  ]
}